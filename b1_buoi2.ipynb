{
  "cells": [
    {
      "cell_type": "markdown",
      "metadata": {
        "id": "view-in-github",
        "colab_type": "text"
      },
      "source": [
        "<a href=\"https://colab.research.google.com/github/minhhieulo/THB1/blob/main/b1_buoi2.ipynb\" target=\"_parent\"><img src=\"https://colab.research.google.com/assets/colab-badge.svg\" alt=\"Open In Colab\"/></a>"
      ]
    },
    {
      "cell_type": "code",
      "source": [
        "graph = {\n",
        " 'Arad': [['Sibiu', '140'], ['Timisoara', '118'], ['Zerind', '75']],\n",
        " 'Sibiu': [['Arad', '140'], ['Fagaras', '99'], ['Oradea', '151'], ['Rimnicu_Vilcea', '80']],\n",
        " 'Timisoara': [['Arad', '118'], ['Lugoj', '111']],\n",
        " 'Zerind': [['Arad', '75'], ['Oradea', '71']],\n",
        " 'Bucharest': [['Fagaras', '211'], ['Giurgiu', '90'], ['Pitesti', '101'], ['Urziceni', '85']],\n",
        " 'Fagaras': [['Bucharest', '211'], ['Sibiu', '99']],\n",
        " 'Giurgiu': [['Bucharest', '90']],\n",
        " 'Pitesti': [['Bucharest', '101'], ['Craiova', '138'], ['Rimnicu_Vilcea', '97']],\n",
        " 'Urziceni': [['Bucharest', '85'], ['Hirsova', '98'], ['Vaslui', '142']],\n",
        " 'Craiova': [['Dobreta', '120'], ['Pitesti', '138'], ['Rimnicu_Vilcea', '146']],\n",
        " 'Dobreta': [['Craiova', '120'], ['Mehadia', '75']],\n",
        " 'Rimnicu_Vilcea': [['Craiova', '146'], ['Pitesti', '97'], ['Sibiu', '80']],\n",
        " 'Mehadia': [['Dobreta', '75'], ['Lugoj', '70']],\n",
        " 'Eforie': [['Hirsova', '86']],\n",
        " 'Hirsova': [['Eforie', '86'], ['Urziceni', '98']],\n",
        " 'Iasi': [['Neamt', '87'], ['Vaslui', '92']],\n",
        " 'Neamt': [['Iasi', '87']],\n",
        " 'Vaslui': [['Iasi', '92'], ['Urziceni', '142']],\n",
        " 'Lugoj': [['Mehadia', '70'], ['Timisoara', '111']],\n",
        " 'Oradea': [['Zerind', '71'], ['Sibiu', '151']]\n",
        " }"
      ],
      "metadata": {
        "id": "7T_JA27w_CuH"
      },
      "execution_count": 1,
      "outputs": []
    },
    {
      "cell_type": "code",
      "source": [
        "h_n = {'Arad': 366,\n",
        " 'Bucharest': 0,\n",
        " 'Craiova': 160,\n",
        " 'Dobreta': 242,\n",
        " 'Eforie': 161,\n",
        " 'Fagaras': 178,\n",
        " 'Giurgiu': 77,\n",
        " 'Hirsova': 151,\n",
        " 'Iasi': 226,\n",
        " 'Lugoj': 244,\n",
        " 'Mehadia': 241,\n",
        " 'Neamt': 234,\n",
        " 'Oradea': 380,\n",
        " 'Pitesti': 98,\n",
        " 'Rimnicu_Vilcea': 193,\n",
        " 'Sibiu': 253,\n",
        " 'Timisoara': 329,\n",
        " 'Urziceni': 80,\n",
        " 'Vaslui': 199,\n",
        " 'Zerind': 374}\n",
        ""
      ],
      "metadata": {
        "id": "YCmnDRMDA3LQ"
      },
      "execution_count": 2,
      "outputs": []
    },
    {
      "cell_type": "code",
      "source": [
        "import queue\n",
        "\n",
        "def GBFS(graph, start, heuristics, goal=\"Bucharest\"):\n",
        "    priorityQueue = queue.PriorityQueue()\n",
        "    priorityQueue.put((heuristics[start], start))\n",
        "    path = []\n",
        "\n",
        "    while not priorityQueue.empty():\n",
        "        current = priorityQueue.get()[1]\n",
        "        path.append(current)\n",
        "\n",
        "        if current == goal:\n",
        "            break\n",
        "\n",
        "        for neighbor in graph[current]:\n",
        "            if neighbor[0] not in path:\n",
        "                priorityQueue.put((heuristics[neighbor[0]], neighbor[0]))\n",
        "\n",
        "    return path\n",
        "\n",
        "\n",
        "\n",
        "gbfs = GBFS(graph, 'Arad', h_n)\n",
        "print(gbfs)"
      ],
      "metadata": {
        "colab": {
          "base_uri": "https://localhost:8080/"
        },
        "id": "shqhUCe2COVx",
        "outputId": "508cc495-d0bb-4b21-c977-034cd1bb57b5"
      },
      "execution_count": 6,
      "outputs": [
        {
          "output_type": "stream",
          "name": "stdout",
          "text": [
            "['Arad', 'Sibiu', 'Fagaras', 'Bucharest']\n"
          ]
        }
      ]
    },
    {
      "cell_type": "code",
      "source": [
        "import queue\n",
        "\n",
        "def Astar(graph, start, heuristics, goal=\"Bucharest\"):\n",
        "    priorityQueue = queue.PriorityQueue()\n",
        "    distance = 0\n",
        "    path = []\n",
        "    priorityQueue.put((heuristics[start] + distance, [start, distance]))\n",
        "\n",
        "    while not priorityQueue.empty():\n",
        "        current = priorityQueue.get()[1]\n",
        "        path.append(current[0])\n",
        "        distance += current[1]\n",
        "\n",
        "        if current[0] == goal:\n",
        "            break\n",
        "\n",
        "        for i in graph[current[0]]:\n",
        "            if i[0] not in path:\n",
        "                priorityQueue.put((heuristics[i[0]] + int(i[1]) + distance, [i[0], int(i[1])]))\n",
        "\n",
        "    return path\n",
        "\n",
        "\n",
        "\n",
        "A_star = Astar(graph, \"Arad\", h_n)\n",
        "print(A_star)\n",
        ""
      ],
      "metadata": {
        "colab": {
          "base_uri": "https://localhost:8080/"
        },
        "id": "HbPjlKpCA-q3",
        "outputId": "07f82d86-9bd3-41de-f8e4-966f5b3ae698"
      },
      "execution_count": 5,
      "outputs": [
        {
          "output_type": "stream",
          "name": "stdout",
          "text": [
            "['Arad', 'Sibiu', 'Rimnicu_Vilcea', 'Pitesti', 'Fagaras', 'Bucharest']\n"
          ]
        }
      ]
    }
  ],
  "metadata": {
    "colab": {
      "name": "Colaboratory chào mừng bạn!",
      "toc_visible": true,
      "provenance": [],
      "include_colab_link": true
    },
    "kernelspec": {
      "display_name": "Python 3",
      "name": "python3"
    }
  },
  "nbformat": 4,
  "nbformat_minor": 0
}